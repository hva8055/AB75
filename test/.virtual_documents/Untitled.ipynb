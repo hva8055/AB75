import pandas as pd


csv = pd.read_csv('testcsv.csv')
csv.head()


c = csv.drop(index=0)
c





att = pd.DataFrame()
att['name'] = c['Name']
att['roll_no'] = c['Roll No']
for i in range(5,20,3):
    s = f"Unnamed: {i}"
    try:
        att[i] = c[s]
    except KeyError:
        break
att


cc = csv.columns
cc


c_n = ['name','roll_no']
for i in range(3,20,3):
    try:
        c_n.append(cc[i])
    except IndexError:
        break
c_n


att.columns = [c_n]
att


att.info()


att['Course 3'].astype(float)


att['Course 2'].dtypes == object


for i in att.columns:
    try:
        att[i[0]] = att[i[0]].astype(float)
    except ValueError:
        continue

att.info()


att



try:
    below_75 = att[(att.iloc[:, 2:] < 75).any(axis=1)]
except TypeError:
    pass
below_75    


EMAIL_ADDRESS = "hvpubg8055@gmail.com"
EMAIL_PASSWORD = "iyhk xbfb ydky vhjf"

# Receiver email
receiver_email = "harshavardhan.20231cse3086@presidencyuniversity.in"

# Email content
subject = "Attendance Alert"
body = "Your attendance is below 75%. Please take necessary action."

# Create email
msg = MIMEMultipart()
msg["From"] = EMAIL_ADDRESS
msg["To"] = receiver_email
msg["Subject"] = subject
msg.attach(MIMEText(body, "plain"))

# Send email via Gmail SMTP server
try:
    server = smtplib.SMTP("smtp.gmail.com", 587)
    server.starttls()  # Secure connection
    server.login(EMAIL_ADDRESS, EMAIL_PASSWORD)
    server.sendmail(EMAIL_ADDRESS, receiver_email, msg.as_string())
    server.quit()
    print("Email sent successfully!")
except Exception as e:
    print(f"Error sending email: {e}")


email = pd.read_excel('email.xlsx')
Email = pd.read_csv('Email.csv')


email['email']


EMAIL_ADDRESS = "hvpubg8055@gmail.com"
EMAIL_PASSWORD = "iyhk xbfb ydky vhjf"

# Receiver email


# Email content
subject = "Attendance Alert"
body = "Your attendance is below 75%. Please take necessary action."

# Create email
for receiver_email in email['email']:
    msg = MIMEMultipart()
    msg["From"] = EMAIL_ADDRESS
    msg["To"] = receiver_email
    msg["Subject"] = subject
    msg.attach(MIMEText(body, "plain"))

# Send email via Gmail SMTP server
    try:
        server = smtplib.SMTP("smtp.gmail.com", 587)
        server.starttls()  # Secure connection
        server.login(EMAIL_ADDRESS, EMAIL_PASSWORD)
        server.sendmail(EMAIL_ADDRESS, receiver_email, msg.as_string())
        server.quit()
        print(f"Email sent successfully to {msg['To']}")
    except Exception as e:
        print(f"Error sending email: {e}")



